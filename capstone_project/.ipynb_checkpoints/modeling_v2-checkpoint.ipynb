{
 "cells": [
  {
   "cell_type": "code",
   "execution_count": 1,
   "metadata": {},
   "outputs": [],
   "source": [
    "import pandas as pd\n",
    "import numpy as np\n",
    "import seaborn as sns\n",
    "import matplotlib\n",
    "import operator\n",
    "\n",
    "import matplotlib.pyplot as plt\n",
    "from scipy.stats import skew\n",
    "from scipy.stats.stats import pearsonr"
   ]
  },
  {
   "cell_type": "code",
   "execution_count": 2,
   "metadata": {},
   "outputs": [],
   "source": [
    "train = pd.read_csv('train.csv')\n",
    "test = pd.read_csv('test.csv')"
   ]
  },
  {
   "cell_type": "code",
   "execution_count": 3,
   "metadata": {},
   "outputs": [
    {
     "name": "stdout",
     "output_type": "stream",
     "text": [
      "<class 'pandas.core.frame.DataFrame'>\n",
      "RangeIndex: 1458644 entries, 0 to 1458643\n",
      "Data columns (total 14 columns):\n",
      "vendor_id               1458644 non-null float64\n",
      "passenger_count         1458644 non-null float64\n",
      "pickup_longitude        1458644 non-null float64\n",
      "pickup_latitude         1458644 non-null float64\n",
      "dropoff_longitude       1458644 non-null float64\n",
      "dropoff_latitude        1458644 non-null float64\n",
      "trip_duration           1458644 non-null float64\n",
      "store_and_fwd_flag_Y    1458644 non-null float64\n",
      "pickup_year             1458644 non-null float64\n",
      "pickup_month            1458644 non-null float64\n",
      "pickup_day              1458644 non-null float64\n",
      "pickup_hour             1458644 non-null float64\n",
      "pickup_minute           1458644 non-null float64\n",
      "pickup_second           1458644 non-null float64\n",
      "dtypes: float64(14)\n",
      "memory usage: 155.8 MB\n"
     ]
    }
   ],
   "source": [
    "train = train.loc[:,'vendor_id':'trip_duration']\n",
    "\n",
    "# Convert to datetime object\n",
    "train['pickup_datetime'] = pd.to_datetime(train['pickup_datetime'], format='%Y-%m-%d %H:%M:%S') \n",
    "train['dropoff_datetime'] = pd.to_datetime(train['dropoff_datetime'], format='%Y-%m-%d %H:%M:%S')\n",
    "\n",
    "train = pd.get_dummies(train,drop_first=True)\n",
    "\n",
    "# Split datetime objects to separte columns\n",
    "train['pickup_year'] = train['pickup_datetime'].dt.year.astype(float)\n",
    "train['pickup_month'] = train['pickup_datetime'].dt.month.astype(float)\n",
    "train['pickup_day'] = train['pickup_datetime'].dt.day.astype(float)\n",
    "train['pickup_hour'] = train['pickup_datetime'].dt.hour.astype(float)\n",
    "train['pickup_minute'] = train['pickup_datetime'].dt.minute.astype(float)\n",
    "train['pickup_second'] = train['pickup_datetime'].dt.second.astype(float)\n",
    "\n",
    "# # Convert to Float datatype\n",
    "int_feat = train.dtypes[(train.dtypes != 'object') & (train.dtypes != 'float64') & (train.dtypes != 'datetime64[ns]')].index\n",
    "train[int_feat] = train[int_feat].astype(float)\n",
    "\n",
    "train.drop(labels=['pickup_datetime','dropoff_datetime'],axis=1,inplace=True)\n",
    "\n",
    "train.info()"
   ]
  },
  {
   "cell_type": "code",
   "execution_count": 4,
   "metadata": {},
   "outputs": [
    {
     "name": "stdout",
     "output_type": "stream",
     "text": [
      "<class 'pandas.core.frame.DataFrame'>\n",
      "RangeIndex: 625134 entries, 0 to 625133\n",
      "Data columns (total 13 columns):\n",
      "vendor_id               625134 non-null float64\n",
      "passenger_count         625134 non-null float64\n",
      "pickup_longitude        625134 non-null float64\n",
      "pickup_latitude         625134 non-null float64\n",
      "dropoff_longitude       625134 non-null float64\n",
      "dropoff_latitude        625134 non-null float64\n",
      "store_and_fwd_flag_Y    625134 non-null float64\n",
      "pickup_year             625134 non-null float64\n",
      "pickup_month            625134 non-null float64\n",
      "pickup_day              625134 non-null float64\n",
      "pickup_hour             625134 non-null float64\n",
      "pickup_minute           625134 non-null float64\n",
      "pickup_second           625134 non-null float64\n",
      "dtypes: float64(13)\n",
      "memory usage: 62.0 MB\n"
     ]
    }
   ],
   "source": [
    "test = test.loc[:,'vendor_id':'store_and_fwd_flag']\n",
    "\n",
    "# Convert to datetime object\n",
    "test['pickup_datetime'] = pd.to_datetime(test['pickup_datetime'], format='%Y-%m-%d %H:%M:%S') \n",
    "\n",
    "# get dummies\n",
    "test = pd.get_dummies(test,drop_first=True)\n",
    "\n",
    "# Split datetime objects to separte columns\n",
    "test['pickup_year'] = test['pickup_datetime'].dt.year.astype(float)\n",
    "test['pickup_month'] = test['pickup_datetime'].dt.month.astype(float)\n",
    "test['pickup_day'] = test['pickup_datetime'].dt.day.astype(float)\n",
    "test['pickup_hour'] = test['pickup_datetime'].dt.hour.astype(float)\n",
    "test['pickup_minute'] = test['pickup_datetime'].dt.minute.astype(float)\n",
    "test['pickup_second'] = test['pickup_datetime'].dt.second.astype(float)\n",
    "\n",
    "# # Convert to Float datatype\n",
    "int_feat = test.dtypes[(test.dtypes != 'object') & (test.dtypes != 'float64') & (test.dtypes != 'datetime64[ns]')].index\n",
    "test[int_feat] = test[int_feat].astype(float)\n",
    "\n",
    "test.drop(labels=['pickup_datetime'],axis=1,inplace=True)\n",
    "\n",
    "test.info()"
   ]
  },
  {
   "cell_type": "code",
   "execution_count": 5,
   "metadata": {},
   "outputs": [],
   "source": [
    "# Split data\n",
    "X_train = train.drop('trip_duration',axis=1)\n",
    "y_train = train['trip_duration']\n",
    "\n",
    "X_test = test"
   ]
  },
  {
   "cell_type": "code",
   "execution_count": 6,
   "metadata": {},
   "outputs": [],
   "source": [
    "from sklearn.model_selection import GridSearchCV, train_test_split, RandomizedSearchCV\n",
    "from sklearn.pipeline import Pipeline\n",
    "from sklearn.metrics import accuracy_score, mean_squared_error\n",
    "\n",
    "from sklearn.linear_model import LinearRegression\n",
    "\n",
    "from sklearn.linear_model import Ridge\n",
    "from sklearn.model_selection import cross_val_score\n",
    "\n",
    "from sklearn.svm import LinearSVR, SVR\n",
    "from sklearn.preprocessing import StandardScaler"
   ]
  },
  {
   "cell_type": "code",
   "execution_count": 7,
   "metadata": {},
   "outputs": [
    {
     "name": "stdout",
     "output_type": "stream",
     "text": [
      "Best Parameters: {'lr__copy_X': True, 'lr__fit_intercept': True, 'lr__normalize': True}\n",
      "Best score is 0.003088978506713734\n"
     ]
    }
   ],
   "source": [
    "steps = [('lr', LinearRegression())]\n",
    "\n",
    "pipeline = Pipeline(steps)\n",
    "\n",
    "params = {'lr__fit_intercept':[True,False], 'lr__normalize':[True,False], 'lr__copy_X':[True, False]}\n",
    "\n",
    "linreg_cv = GridSearchCV(pipeline,params, cv=5)\n",
    "\n",
    "linreg_cv.fit(X_train,y_train)\n",
    "\n",
    "y_pred = linreg_cv.predict(X_test)\n",
    "\n",
    "\n",
    "print(\"Best Parameters: {}\".format(linreg_cv.best_params_)) \n",
    "print(\"Best score is {}\".format(linreg_cv.best_score_))"
   ]
  },
  {
   "cell_type": "code",
   "execution_count": 8,
   "metadata": {},
   "outputs": [],
   "source": [
    "def rmse_cv(model):\n",
    "    rmse= np.sqrt(-cross_val_score(model, X_train, y_train, scoring=\"neg_mean_squared_error\", cv = 5))\n",
    "    return(rmse)"
   ]
  },
  {
   "cell_type": "code",
   "execution_count": 9,
   "metadata": {},
   "outputs": [],
   "source": [
    "model_ridge = Ridge()"
   ]
  },
  {
   "cell_type": "code",
   "execution_count": 10,
   "metadata": {},
   "outputs": [],
   "source": [
    "# alphas = [0.05, 0.1, 0.3, 1, 3, 5, 10, 15, 30, 50, 75]\n",
    "alphas = np.logspace(-4, 0, 10)\n",
    "cv_ridge = [rmse_cv(Ridge(alpha = alpha)).mean() \n",
    "            for alpha in alphas]"
   ]
  },
  {
   "cell_type": "code",
   "execution_count": 11,
   "metadata": {},
   "outputs": [
    {
     "data": {
      "text/plain": [
       "Text(0,0.5,'rmse')"
      ]
     },
     "execution_count": 11,
     "metadata": {},
     "output_type": "execute_result"
    },
    {
     "data": {
      "image/png": "[encoded data removed]",
      "text/plain": [
       "<matplotlib.figure.Figure at 0x1a272557b8>"
      ]
     },
     "metadata": {},
     "output_type": "display_data"
    }
   ],
   "source": [
    "cv_ridge = pd.Series(cv_ridge, index = alphas)\n",
    "cv_ridge.plot(title = \"Validation\")\n",
    "plt.xlabel(\"alpha\")\n",
    "plt.ylabel(\"rmse\")"
   ]
  },
  {
   "cell_type": "code",
   "execution_count": 12,
   "metadata": {},
   "outputs": [
    {
     "data": {
      "text/plain": [
       "4879.37468925884"
      ]
     },
     "execution_count": 12,
     "metadata": {},
     "output_type": "execute_result"
    }
   ],
   "source": [
    "cv_ridge.min()"
   ]
  },
  {
   "cell_type": "code",
   "execution_count": 13,
   "metadata": {},
   "outputs": [],
   "source": [
    "steps = [('scaler', StandardScaler()),\n",
    "         ('svr', LinearSVR())]\n",
    "\n",
    "pipeline = Pipeline(steps)\n",
    "\n",
    "params = {'svr__C':[0.1,1,10]} # higher C value, longer it takes\n",
    "\n",
    "svr_cv = GridSearchCV(pipeline,params,cv=5,verbose=3)"
   ]
  },
  {
   "cell_type": "code",
   "execution_count": 14,
   "metadata": {
    "scrolled": true
   },
   "outputs": [
    {
     "name": "stdout",
     "output_type": "stream",
     "text": [
      "Fitting 5 folds for each of 3 candidates, totalling 15 fits\n",
      "[CV] svr__C=0.1 ......................................................\n",
      "[CV] ........... svr__C=0.1, score=0.002672050376474777, total=   2.4s\n",
      "[CV] svr__C=0.1 ......................................................\n"
     ]
    },
    {
     "name": "stderr",
     "output_type": "stream",
     "text": [
      "[Parallel(n_jobs=1)]: Done   1 out of   1 | elapsed:    2.6s remaining:    0.0s\n"
     ]
    },
    {
     "name": "stdout",
     "output_type": "stream",
     "text": [
      "[CV] ............ svr__C=0.1, score=0.00219357643435536, total=   2.1s\n",
      "[CV] svr__C=0.1 ......................................................\n"
     ]
    },
    {
     "name": "stderr",
     "output_type": "stream",
     "text": [
      "[Parallel(n_jobs=1)]: Done   2 out of   2 | elapsed:    5.0s remaining:    0.0s\n"
     ]
    },
    {
     "name": "stdout",
     "output_type": "stream",
     "text": [
      "[CV] ......... svr__C=0.1, score=-0.0033924284942938865, total=   2.4s\n",
      "[CV] svr__C=0.1 ......................................................\n",
      "[CV] .......... svr__C=0.1, score=-0.007302822963136445, total=   2.2s\n",
      "[CV] svr__C=0.1 ......................................................\n",
      "[CV] ........... svr__C=0.1, score=-0.05057298914050046, total=   2.4s\n",
      "[CV] svr__C=1 ........................................................\n",
      "[CV] ............. svr__C=1, score=0.002792892405445002, total=   3.7s\n",
      "[CV] svr__C=1 ........................................................\n",
      "[CV] ............ svr__C=1, score=0.0023261424894424065, total=   3.6s\n",
      "[CV] svr__C=1 ........................................................\n",
      "[CV] ........... svr__C=1, score=-0.0035786182474992767, total=   3.7s\n",
      "[CV] svr__C=1 ........................................................\n",
      "[CV] ............ svr__C=1, score=-0.007709044521490459, total=   3.6s\n",
      "[CV] svr__C=1 ........................................................\n",
      "[CV] ............ svr__C=1, score=-0.053202500915881634, total=   3.5s\n",
      "[CV] svr__C=10 .......................................................\n",
      "[CV] ........... svr__C=10, score=0.0028275230327002854, total=  13.1s\n",
      "[CV] svr__C=10 .......................................................\n",
      "[CV] ............. svr__C=10, score=0.00232998540425311, total=  14.7s\n",
      "[CV] svr__C=10 .......................................................\n",
      "[CV] ........... svr__C=10, score=-0.003615955153871697, total=  13.5s\n",
      "[CV] svr__C=10 .......................................................\n",
      "[CV] .......... svr__C=10, score=-0.0076473553873903635, total=  15.6s\n",
      "[CV] svr__C=10 .......................................................\n",
      "[CV] ............ svr__C=10, score=-0.05335309736091553, total=  14.9s\n"
     ]
    },
    {
     "name": "stderr",
     "output_type": "stream",
     "text": [
      "[Parallel(n_jobs=1)]: Done  15 out of  15 | elapsed:  1.8min finished\n"
     ]
    },
    {
     "data": {
      "text/plain": [
       "GridSearchCV(cv=5, error_score='raise',\n",
       "       estimator=Pipeline(memory=None,\n",
       "     steps=[('scaler', StandardScaler(copy=True, with_mean=True, with_std=True)), ('svr', LinearSVR(C=1.0, dual=True, epsilon=0.0, fit_intercept=True,\n",
       "     intercept_scaling=1.0, loss='epsilon_insensitive', max_iter=1000,\n",
       "     random_state=None, tol=0.0001, verbose=0))]),\n",
       "       fit_params=None, iid=True, n_jobs=1,\n",
       "       param_grid={'svr__C': [0.1, 1, 10]}, pre_dispatch='2*n_jobs',\n",
       "       refit=True, return_train_score='warn', scoring=None, verbose=3)"
      ]
     },
     "execution_count": 14,
     "metadata": {},
     "output_type": "execute_result"
    }
   ],
   "source": [
    "svr_cv.fit(X_train,y_train)"
   ]
  },
  {
   "cell_type": "code",
   "execution_count": 15,
   "metadata": {},
   "outputs": [],
   "source": [
    "y_pred = svr_cv.predict(X_test)"
   ]
  },
  {
   "cell_type": "code",
   "execution_count": 16,
   "metadata": {},
   "outputs": [
    {
     "name": "stdout",
     "output_type": "stream",
     "text": [
      "Best Parameters: {'svr__C': 0.1}\n",
      "Best score is -0.011280495819753104\n"
     ]
    }
   ],
   "source": [
    "print(\"Best Parameters: {}\".format(svr_cv.best_params_)) \n",
    "print(\"Best score is {}\".format(svr_cv.best_score_))"
   ]
  },
  {
   "cell_type": "code",
   "execution_count": 17,
   "metadata": {},
   "outputs": [],
   "source": [
    "steps = [('scaler', StandardScaler()),\n",
    "         ('svr', SVR())]\n",
    "\n",
    "pipeline = Pipeline(steps)\n",
    "\n",
    "param_grid = {'svr__C': [0.1,1,10],'svr__gamma':[1,0.1,0.01]}\n",
    "\n",
    "sv_cv = GridSearchCV(pipeline,param_grid,cv=5,verbose=3)"
   ]
  },
  {
   "cell_type": "code",
   "execution_count": null,
   "metadata": {},
   "outputs": [
    {
     "name": "stdout",
     "output_type": "stream",
     "text": [
      "Fitting 5 folds for each of 9 candidates, totalling 45 fits\n",
      "[CV] svr__C=0.1, svr__gamma=1 ........................................\n"
     ]
    }
   ],
   "source": [
    "sv_cv.fit(X_train,y_train)"
   ]
  },
  {
   "cell_type": "code",
   "execution_count": null,
   "metadata": {},
   "outputs": [],
   "source": []
  }
 ],
 "metadata": {
  "kernelspec": {
   "display_name": "Python 3",
   "language": "python",
   "name": "python3"
  },
  "language_info": {
   "codemirror_mode": {
    "name": "ipython",
    "version": 3
   },
   "file_extension": ".py",
   "mimetype": "text/x-python",
   "name": "python",
   "nbconvert_exporter": "python",
   "pygments_lexer": "ipython3",
   "version": "3.6.4"
  }
 },
 "nbformat": 4,
 "nbformat_minor": 2
}
