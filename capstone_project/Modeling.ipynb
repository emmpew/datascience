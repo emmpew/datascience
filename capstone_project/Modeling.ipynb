{
 "cells": [
  {
   "cell_type": "markdown",
   "metadata": {},
   "source": [
    "#### Modeling"
   ]
  },
  {
   "cell_type": "code",
   "execution_count": 1,
   "metadata": {},
   "outputs": [],
   "source": [
    "import pandas as pd\n",
    "import numpy as np"
   ]
  },
  {
   "cell_type": "code",
   "execution_count": 2,
   "metadata": {},
   "outputs": [],
   "source": [
    "df = pd.read_csv('train.csv')\n",
    "df_test = pd.read_csv('test.csv')"
   ]
  },
  {
   "cell_type": "code",
   "execution_count": 3,
   "metadata": {},
   "outputs": [
    {
     "name": "stdout",
     "output_type": "stream",
     "text": [
      "<class 'pandas.core.frame.DataFrame'>\n",
      "RangeIndex: 1458644 entries, 0 to 1458643\n",
      "Data columns (total 23 columns):\n",
      "id                    1458644 non-null object\n",
      "vendor_id             1458644 non-null float64\n",
      "pickup_datetime       1458644 non-null datetime64[ns]\n",
      "dropoff_datetime      1458644 non-null datetime64[ns]\n",
      "passenger_count       1458644 non-null float64\n",
      "pickup_longitude      1458644 non-null float64\n",
      "pickup_latitude       1458644 non-null float64\n",
      "dropoff_longitude     1458644 non-null float64\n",
      "dropoff_latitude      1458644 non-null float64\n",
      "store_and_fwd_flag    1458644 non-null category\n",
      "trip_duration         1458644 non-null float64\n",
      "pickup_year           1458644 non-null float64\n",
      "pickup_month          1458644 non-null float64\n",
      "pickup_day            1458644 non-null float64\n",
      "pickup_hour           1458644 non-null float64\n",
      "pickup_minute         1458644 non-null float64\n",
      "pickup_second         1458644 non-null float64\n",
      "dropoff_year          1458644 non-null float64\n",
      "dropoff_month         1458644 non-null float64\n",
      "dropoff_day           1458644 non-null float64\n",
      "dropoff_hour          1458644 non-null float64\n",
      "dropoff_minute        1458644 non-null float64\n",
      "dropoff_second        1458644 non-null float64\n",
      "dtypes: category(1), datetime64[ns](2), float64(19), object(1)\n",
      "memory usage: 246.2+ MB\n"
     ]
    }
   ],
   "source": [
    "# Prepare a format string: time_format\n",
    "time_format = '%Y-%m-%d %H:%M:%S'\n",
    "\n",
    "# Convert to datetime object\n",
    "df['pickup_datetime'] = pd.to_datetime(df['pickup_datetime'], format=time_format) \n",
    "df['dropoff_datetime'] = pd.to_datetime(df['dropoff_datetime'], format=time_format)\n",
    "\n",
    "# Convert to Float datatype\n",
    "df['trip_duration'] = df['trip_duration'].astype(float)\n",
    "df['vendor_id'] = df['vendor_id'].astype(float)\n",
    "df['passenger_count'] = df['passenger_count'].astype(float)\n",
    "\n",
    "# Create Float columns to split datetime objects\n",
    "df['pickup_year'] = df['pickup_datetime'].dt.year.astype(float)\n",
    "df['pickup_month'] = df['pickup_datetime'].dt.month.astype(float)\n",
    "df['pickup_day'] = df['pickup_datetime'].dt.day.astype(float)\n",
    "df['pickup_hour'] = df['pickup_datetime'].dt.hour.astype(float)\n",
    "df['pickup_minute'] = df['pickup_datetime'].dt.minute.astype(float)\n",
    "df['pickup_second'] = df['pickup_datetime'].dt.second.astype(float)\n",
    "\n",
    "df['dropoff_year'] = df['dropoff_datetime'].dt.year.astype(float)\n",
    "df['dropoff_month'] = df['dropoff_datetime'].dt.month.astype(float)\n",
    "df['dropoff_day'] = df['dropoff_datetime'].dt.day.astype(float)\n",
    "df['dropoff_hour'] = df['dropoff_datetime'].dt.hour.astype(float)\n",
    "df['dropoff_minute'] = df['dropoff_datetime'].dt.minute.astype(float)\n",
    "df['dropoff_second'] = df['dropoff_datetime'].dt.second.astype(float)\n",
    "\n",
    "# Convert to Category datatype\n",
    "df['store_and_fwd_flag'] = df['store_and_fwd_flag'].astype('category')\n",
    "\n",
    "\n",
    "df.info()"
   ]
  },
  {
   "cell_type": "code",
   "execution_count": 4,
   "metadata": {},
   "outputs": [
    {
     "name": "stdout",
     "output_type": "stream",
     "text": [
      "<class 'pandas.core.frame.DataFrame'>\n",
      "RangeIndex: 625134 entries, 0 to 625133\n",
      "Data columns (total 15 columns):\n",
      "id                    625134 non-null object\n",
      "vendor_id             625134 non-null int64\n",
      "pickup_datetime       625134 non-null datetime64[ns]\n",
      "passenger_count       625134 non-null float64\n",
      "pickup_longitude      625134 non-null float64\n",
      "pickup_latitude       625134 non-null float64\n",
      "dropoff_longitude     625134 non-null float64\n",
      "dropoff_latitude      625134 non-null float64\n",
      "store_and_fwd_flag    625134 non-null category\n",
      "pickup_year           625134 non-null float64\n",
      "pickup_month          625134 non-null float64\n",
      "pickup_day            625134 non-null float64\n",
      "pickup_hour           625134 non-null float64\n",
      "pickup_minute         625134 non-null float64\n",
      "pickup_second         625134 non-null float64\n",
      "dtypes: category(1), datetime64[ns](1), float64(11), int64(1), object(1)\n",
      "memory usage: 67.4+ MB\n"
     ]
    }
   ],
   "source": [
    "# Prepare a format string: time_format\n",
    "time_format = '%Y-%m-%d %H:%M:%S'\n",
    "\n",
    "# Convert to datetime object (dropoff_datetime is missing)\n",
    "df_test['pickup_datetime'] = pd.to_datetime(df_test['pickup_datetime'], format=time_format) \n",
    "\n",
    "# Convert to Float datatype\n",
    "df_test['passenger_count'] = df_test['passenger_count'].astype(float)\n",
    "\n",
    "# Create Float columns to split datetime objects\n",
    "df_test['pickup_year'] = df_test['pickup_datetime'].dt.year.astype(float)\n",
    "df_test['pickup_month'] = df_test['pickup_datetime'].dt.month.astype(float)\n",
    "df_test['pickup_day'] = df_test['pickup_datetime'].dt.day.astype(float)\n",
    "df_test['pickup_hour'] = df_test['pickup_datetime'].dt.hour.astype(float)\n",
    "df_test['pickup_minute'] = df_test['pickup_datetime'].dt.minute.astype(float)\n",
    "df_test['pickup_second'] = df_test['pickup_datetime'].dt.second.astype(float)\n",
    "\n",
    "# Convert to Category datatype\n",
    "df_test['store_and_fwd_flag'] = df_test['store_and_fwd_flag'].astype('category')\n",
    "\n",
    "df_test.info()"
   ]
  },
  {
   "cell_type": "markdown",
   "metadata": {},
   "source": [
    "#### Split Data"
   ]
  },
  {
   "cell_type": "code",
   "execution_count": 5,
   "metadata": {},
   "outputs": [],
   "source": [
    "from sklearn.model_selection import GridSearchCV, train_test_split, RandomizedSearchCV\n",
    "from sklearn.pipeline import Pipeline\n",
    "from sklearn.metrics import accuracy_score, mean_squared_error\n",
    "\n",
    "X = df.drop(['trip_duration','id','store_and_fwd_flag','dropoff_datetime','pickup_datetime'], axis=1).values\n",
    "y = df['trip_duration'].values\n",
    "\n",
    "X_train, X_test, y_train, y_test = train_test_split(X, y, test_size=0.30, random_state=42)"
   ]
  },
  {
   "cell_type": "markdown",
   "metadata": {},
   "source": [
    "#### Linear Regression"
   ]
  },
  {
   "cell_type": "code",
   "execution_count": 6,
   "metadata": {},
   "outputs": [],
   "source": [
    "from sklearn.linear_model import LinearRegression"
   ]
  },
  {
   "cell_type": "code",
   "execution_count": 7,
   "metadata": {},
   "outputs": [
    {
     "name": "stdout",
     "output_type": "stream",
     "text": [
      "R^2: 0.8954384072188829\n",
      "Root Mean Squared Error: 1033.1670044712448\n",
      "Best Parameters: {'lr__copy_X': True, 'lr__fit_intercept': True, 'lr__normalize': True}\n",
      "Best score is 0.9443147193143128\n"
     ]
    }
   ],
   "source": [
    "steps = [('lr', LinearRegression())]\n",
    "\n",
    "pipeline = Pipeline(steps)\n",
    "\n",
    "params = {'lr__fit_intercept':[True,False], 'lr__normalize':[True,False], 'lr__copy_X':[True, False]}\n",
    "\n",
    "linreg_cv = GridSearchCV(pipeline,params, cv=5)\n",
    "\n",
    "linreg_cv.fit(X_train,y_train)\n",
    "\n",
    "y_pred = linreg_cv.predict(X_test)\n",
    "\n",
    "# Compute and print R^2 and RMSE\n",
    "print(\"R^2: {}\".format(linreg_cv.score(X_test, y_test)))\n",
    "rmse = np.sqrt(mean_squared_error(y_test,y_pred))\n",
    "print(\"Root Mean Squared Error: {}\".format(rmse))\n",
    "\n",
    "\n",
    "print(\"Best Parameters: {}\".format(linreg_cv.best_params_)) \n",
    "print(\"Best score is {}\".format(linreg_cv.best_score_))"
   ]
  },
  {
   "cell_type": "markdown",
   "metadata": {},
   "source": [
    "#### Ridge Regression"
   ]
  },
  {
   "cell_type": "code",
   "execution_count": 8,
   "metadata": {},
   "outputs": [],
   "source": [
    "from sklearn.linear_model import RidgeCV"
   ]
  },
  {
   "cell_type": "code",
   "execution_count": 9,
   "metadata": {},
   "outputs": [
    {
     "data": {
      "text/plain": [
       "RidgeCV(alphas=[0.1, 0.01, 0.001, 0.0001], cv=5, fit_intercept=True,\n",
       "    gcv_mode=None, normalize=False, scoring=None, store_cv_values=False)"
      ]
     },
     "execution_count": 9,
     "metadata": {},
     "output_type": "execute_result"
    }
   ],
   "source": [
    "modelCV = RidgeCV(alphas = [0.1, 0.01, 0.001,0.0001],cv=5)\n",
    "modelCV.fit(X_train,y_train)"
   ]
  },
  {
   "cell_type": "code",
   "execution_count": 10,
   "metadata": {},
   "outputs": [],
   "source": [
    "y_pred = modelCV.predict(X_test)"
   ]
  },
  {
   "cell_type": "code",
   "execution_count": 11,
   "metadata": {},
   "outputs": [
    {
     "name": "stdout",
     "output_type": "stream",
     "text": [
      "Best Alpha: 0.0001\n",
      "R^2: -38718456.72970435\n",
      "Root Mean Squared Error: 19881239.529856503\n"
     ]
    }
   ],
   "source": [
    "print(\"Best Alpha: {}\".format(modelCV.alpha_))\n",
    "\n",
    "# Compute and print R^2 and RMSE\n",
    "print(\"R^2: {}\".format(modelCV.score(X_test, y_test)))\n",
    "rmse = np.sqrt(mean_squared_error(y_test,y_pred))\n",
    "print(\"Root Mean Squared Error: {}\".format(rmse))"
   ]
  },
  {
   "cell_type": "markdown",
   "metadata": {},
   "source": [
    "#### SVM\n",
    "\n",
    "Not good for large datasets --> optional: linear kernels"
   ]
  },
  {
   "cell_type": "markdown",
   "metadata": {},
   "source": [
    "#### Linear SVR"
   ]
  },
  {
   "cell_type": "code",
   "execution_count": 12,
   "metadata": {},
   "outputs": [],
   "source": [
    "from sklearn.svm import LinearSVR, SVR\n",
    "from sklearn.preprocessing import StandardScaler"
   ]
  },
  {
   "cell_type": "code",
   "execution_count": 13,
   "metadata": {},
   "outputs": [],
   "source": [
    "steps = [('scaler', StandardScaler()),\n",
    "         ('svr', LinearSVR())]\n",
    "\n",
    "pipeline = Pipeline(steps)\n",
    "\n",
    "params = {'svr__C':[0.1,1,10]} # higher C value, longer it takes\n",
    "\n",
    "svr_cv = GridSearchCV(pipeline,params,cv=5,verbose=3)"
   ]
  },
  {
   "cell_type": "code",
   "execution_count": 14,
   "metadata": {
    "scrolled": true
   },
   "outputs": [
    {
     "name": "stdout",
     "output_type": "stream",
     "text": [
      "Fitting 5 folds for each of 3 candidates, totalling 15 fits\n",
      "[CV] svr__C=0.1 ......................................................\n",
      "[CV] .......... svr__C=0.1, score=-0.005762317765246605, total=   1.9s\n",
      "[CV] svr__C=0.1 ......................................................\n"
     ]
    },
    {
     "name": "stderr",
     "output_type": "stream",
     "text": [
      "[Parallel(n_jobs=1)]: Done   1 out of   1 | elapsed:    2.0s remaining:    0.0s\n"
     ]
    },
    {
     "name": "stdout",
     "output_type": "stream",
     "text": [
      "[CV] ........... svr__C=0.1, score=0.000569114028224682, total=   1.6s\n",
      "[CV] svr__C=0.1 ......................................................\n"
     ]
    },
    {
     "name": "stderr",
     "output_type": "stream",
     "text": [
      "[Parallel(n_jobs=1)]: Done   2 out of   2 | elapsed:    3.8s remaining:    0.0s\n"
     ]
    },
    {
     "name": "stdout",
     "output_type": "stream",
     "text": [
      "[CV] ........... svr__C=0.1, score=-0.00269738323559654, total=   1.8s\n",
      "[CV] svr__C=0.1 ......................................................\n",
      "[CV] .......... svr__C=0.1, score=-0.008372429092449618, total=   1.8s\n",
      "[CV] svr__C=0.1 ......................................................\n",
      "[CV] ........... svr__C=0.1, score=0.001974491727495642, total=   1.8s\n",
      "[CV] svr__C=1 ........................................................\n",
      "[CV] ............ svr__C=1, score=-0.006185910255976035, total=   2.9s\n",
      "[CV] svr__C=1 ........................................................\n",
      "[CV] ............ svr__C=1, score=0.0006219375538523141, total=   2.6s\n",
      "[CV] svr__C=1 ........................................................\n",
      "[CV] ........... svr__C=1, score=-0.0029362958090561886, total=   2.8s\n",
      "[CV] svr__C=1 ........................................................\n",
      "[CV] ............ svr__C=1, score=-0.008840938059473835, total=   3.0s\n",
      "[CV] svr__C=1 ........................................................\n",
      "[CV] ............ svr__C=1, score=0.0021353756655778655, total=   2.5s\n",
      "[CV] svr__C=10 .......................................................\n",
      "[CV] ........... svr__C=10, score=-0.006153993639629318, total=   9.4s\n",
      "[CV] svr__C=10 .......................................................\n",
      "[CV] ........... svr__C=10, score=0.0008221407912960554, total=   9.9s\n",
      "[CV] svr__C=10 .......................................................\n",
      "[CV] ........... svr__C=10, score=-0.002812664271046428, total=  10.4s\n",
      "[CV] svr__C=10 .......................................................\n",
      "[CV] ........... svr__C=10, score=-0.008556582750451014, total=  10.9s\n",
      "[CV] svr__C=10 .......................................................\n",
      "[CV] ............ svr__C=10, score=0.002338500457192305, total=  10.2s\n"
     ]
    },
    {
     "name": "stderr",
     "output_type": "stream",
     "text": [
      "[Parallel(n_jobs=1)]: Done  15 out of  15 | elapsed:  1.3min finished\n"
     ]
    },
    {
     "data": {
      "text/plain": [
       "GridSearchCV(cv=5, error_score='raise',\n",
       "       estimator=Pipeline(memory=None,\n",
       "     steps=[('scaler', StandardScaler(copy=True, with_mean=True, with_std=True)), ('svr', LinearSVR(C=1.0, dual=True, epsilon=0.0, fit_intercept=True,\n",
       "     intercept_scaling=1.0, loss='epsilon_insensitive', max_iter=1000,\n",
       "     random_state=None, tol=0.0001, verbose=0))]),\n",
       "       fit_params=None, iid=True, n_jobs=1,\n",
       "       param_grid={'svr__C': [0.1, 1, 10]}, pre_dispatch='2*n_jobs',\n",
       "       refit=True, return_train_score='warn', scoring=None, verbose=3)"
      ]
     },
     "execution_count": 14,
     "metadata": {},
     "output_type": "execute_result"
    }
   ],
   "source": [
    "svr_cv.fit(X_train,y_train)"
   ]
  },
  {
   "cell_type": "code",
   "execution_count": 15,
   "metadata": {},
   "outputs": [],
   "source": [
    "y_pred = svr_cv.predict(X_test)"
   ]
  },
  {
   "cell_type": "code",
   "execution_count": 16,
   "metadata": {},
   "outputs": [
    {
     "name": "stdout",
     "output_type": "stream",
     "text": [
      "R^2: -248039192.01585808\n",
      "Root Mean Squared Error: 50320458.28536123\n",
      "Best Parameters: {'svr__C': 0.1}\n",
      "Best score is -0.0028577048675144877\n"
     ]
    }
   ],
   "source": [
    "# Compute and print R^2 and RMSE\n",
    "print(\"R^2: {}\".format(svr_cv.score(X_test, y_test)))\n",
    "rmse = np.sqrt(mean_squared_error(y_test,y_pred))\n",
    "print(\"Root Mean Squared Error: {}\".format(rmse))\n",
    "\n",
    "print(\"Best Parameters: {}\".format(svr_cv.best_params_)) \n",
    "print(\"Best score is {}\".format(svr_cv.best_score_))"
   ]
  },
  {
   "cell_type": "markdown",
   "metadata": {},
   "source": [
    "#### SVR\n",
    "\n",
    "Reduced the shape of dataframe to use SVR"
   ]
  },
  {
   "cell_type": "code",
   "execution_count": 17,
   "metadata": {},
   "outputs": [
    {
     "data": {
      "text/plain": [
       "(8045, 23)"
      ]
     },
     "execution_count": 17,
     "metadata": {},
     "output_type": "execute_result"
    }
   ],
   "source": [
    "df_Y = df[df['store_and_fwd_flag']=='Y'] \n",
    "\n",
    "df_Y.shape"
   ]
  },
  {
   "cell_type": "code",
   "execution_count": 18,
   "metadata": {},
   "outputs": [],
   "source": [
    "X = df_Y.drop(['trip_duration','id','store_and_fwd_flag','dropoff_datetime','pickup_datetime'], axis=1).values\n",
    "y = df_Y['trip_duration'].values\n",
    "\n",
    "X_train, X_test, y_train, y_test = train_test_split(X, y, test_size=0.30, random_state=42)"
   ]
  },
  {
   "cell_type": "code",
   "execution_count": 19,
   "metadata": {},
   "outputs": [],
   "source": [
    "steps = [('scaler', StandardScaler()),\n",
    "         ('svr', SVR())]\n",
    "\n",
    "pipeline = Pipeline(steps)\n",
    "\n",
    "param_grid = {'svr__C': [0.1,1,10],'svr__gamma':[1,0.1,0.01]}\n",
    "\n",
    "sv_cv = GridSearchCV(pipeline,param_grid,cv=5,verbose=3)"
   ]
  },
  {
   "cell_type": "code",
   "execution_count": 20,
   "metadata": {
    "scrolled": true
   },
   "outputs": [
    {
     "name": "stdout",
     "output_type": "stream",
     "text": [
      "Fitting 5 folds for each of 9 candidates, totalling 45 fits\n",
      "[CV] svr__C=0.1, svr__gamma=1 ........................................\n",
      "[CV]  svr__C=0.1, svr__gamma=1, score=-0.0890075310862537, total=   1.1s\n",
      "[CV] svr__C=0.1, svr__gamma=1 ........................................\n"
     ]
    },
    {
     "name": "stderr",
     "output_type": "stream",
     "text": [
      "[Parallel(n_jobs=1)]: Done   1 out of   1 | elapsed:    1.7s remaining:    0.0s\n"
     ]
    },
    {
     "name": "stdout",
     "output_type": "stream",
     "text": [
      "[CV]  svr__C=0.1, svr__gamma=1, score=-0.08607996626587887, total=   1.0s\n",
      "[CV] svr__C=0.1, svr__gamma=1 ........................................\n"
     ]
    },
    {
     "name": "stderr",
     "output_type": "stream",
     "text": [
      "[Parallel(n_jobs=1)]: Done   2 out of   2 | elapsed:    3.3s remaining:    0.0s\n"
     ]
    },
    {
     "name": "stdout",
     "output_type": "stream",
     "text": [
      "[CV]  svr__C=0.1, svr__gamma=1, score=-0.09765520052707499, total=   1.0s\n",
      "[CV] svr__C=0.1, svr__gamma=1 ........................................\n",
      "[CV]  svr__C=0.1, svr__gamma=1, score=-0.09372722942263657, total=   1.0s\n",
      "[CV] svr__C=0.1, svr__gamma=1 ........................................\n",
      "[CV]  svr__C=0.1, svr__gamma=1, score=-0.08590104630458972, total=   1.0s\n",
      "[CV] svr__C=0.1, svr__gamma=0.1 ......................................\n",
      "[CV]  svr__C=0.1, svr__gamma=0.1, score=-0.08339597482539851, total=   0.9s\n",
      "[CV] svr__C=0.1, svr__gamma=0.1 ......................................\n",
      "[CV]  svr__C=0.1, svr__gamma=0.1, score=-0.07954099004007653, total=   1.1s\n",
      "[CV] svr__C=0.1, svr__gamma=0.1 ......................................\n",
      "[CV]  svr__C=0.1, svr__gamma=0.1, score=-0.09051885705073093, total=   1.0s\n",
      "[CV] svr__C=0.1, svr__gamma=0.1 ......................................\n",
      "[CV]  svr__C=0.1, svr__gamma=0.1, score=-0.08576651395536761, total=   1.0s\n",
      "[CV] svr__C=0.1, svr__gamma=0.1 ......................................\n",
      "[CV]  svr__C=0.1, svr__gamma=0.1, score=-0.07962611804707143, total=   1.0s\n",
      "[CV] svr__C=0.1, svr__gamma=0.01 .....................................\n",
      "[CV]  svr__C=0.1, svr__gamma=0.01, score=-0.08472395783155551, total=   1.1s\n",
      "[CV] svr__C=0.1, svr__gamma=0.01 .....................................\n",
      "[CV]  svr__C=0.1, svr__gamma=0.01, score=-0.08110568396714844, total=   1.0s\n",
      "[CV] svr__C=0.1, svr__gamma=0.01 .....................................\n",
      "[CV]  svr__C=0.1, svr__gamma=0.01, score=-0.09201554673477454, total=   1.0s\n",
      "[CV] svr__C=0.1, svr__gamma=0.01 .....................................\n",
      "[CV]  svr__C=0.1, svr__gamma=0.01, score=-0.0879128833775431, total=   1.0s\n",
      "[CV] svr__C=0.1, svr__gamma=0.01 .....................................\n",
      "[CV]  svr__C=0.1, svr__gamma=0.01, score=-0.08083466647350958, total=   1.1s\n",
      "[CV] svr__C=1, svr__gamma=1 ..........................................\n",
      "[CV]  svr__C=1, svr__gamma=1, score=-0.08841537536529098, total=   1.0s\n",
      "[CV] svr__C=1, svr__gamma=1 ..........................................\n",
      "[CV]  svr__C=1, svr__gamma=1, score=-0.0855568239711697, total=   1.2s\n",
      "[CV] svr__C=1, svr__gamma=1 ..........................................\n",
      "[CV]  svr__C=1, svr__gamma=1, score=-0.09717512339333068, total=   1.1s\n",
      "[CV] svr__C=1, svr__gamma=1 ..........................................\n",
      "[CV]  svr__C=1, svr__gamma=1, score=-0.09236701881566423, total=   1.0s\n",
      "[CV] svr__C=1, svr__gamma=1 ..........................................\n",
      "[CV]  svr__C=1, svr__gamma=1, score=-0.08527630647888818, total=   1.0s\n",
      "[CV] svr__C=1, svr__gamma=0.1 ........................................\n",
      "[CV]  svr__C=1, svr__gamma=0.1, score=-0.03464276414828471, total=   1.0s\n",
      "[CV] svr__C=1, svr__gamma=0.1 ........................................\n",
      "[CV]  svr__C=1, svr__gamma=0.1, score=-0.027877014671364053, total=   1.1s\n",
      "[CV] svr__C=1, svr__gamma=0.1 ........................................\n",
      "[CV]  svr__C=1, svr__gamma=0.1, score=-0.03416119118829486, total=   1.1s\n",
      "[CV] svr__C=1, svr__gamma=0.1 ........................................\n",
      "[CV]  svr__C=1, svr__gamma=0.1, score=-0.03500002521391665, total=   1.1s\n",
      "[CV] svr__C=1, svr__gamma=0.1 ........................................\n",
      "[CV]  svr__C=1, svr__gamma=0.1, score=-0.028064973178567376, total=   1.0s\n",
      "[CV] svr__C=1, svr__gamma=0.01 .......................................\n",
      "[CV]  svr__C=1, svr__gamma=0.01, score=-0.04604593188111372, total=   1.0s\n",
      "[CV] svr__C=1, svr__gamma=0.01 .......................................\n",
      "[CV]  svr__C=1, svr__gamma=0.01, score=-0.03857100713585271, total=   0.9s\n",
      "[CV] svr__C=1, svr__gamma=0.01 .......................................\n",
      "[CV]  svr__C=1, svr__gamma=0.01, score=-0.04550329307874068, total=   1.0s\n",
      "[CV] svr__C=1, svr__gamma=0.01 .......................................\n",
      "[CV]  svr__C=1, svr__gamma=0.01, score=-0.04603720201635264, total=   1.0s\n",
      "[CV] svr__C=1, svr__gamma=0.01 .......................................\n",
      "[CV]  svr__C=1, svr__gamma=0.01, score=-0.03851722935666024, total=   0.9s\n",
      "[CV] svr__C=10, svr__gamma=1 .........................................\n",
      "[CV]  svr__C=10, svr__gamma=1, score=-0.082547641132924, total=   0.9s\n",
      "[CV] svr__C=10, svr__gamma=1 .........................................\n",
      "[CV]  svr__C=10, svr__gamma=1, score=-0.07967107552272812, total=   1.0s\n",
      "[CV] svr__C=10, svr__gamma=1 .........................................\n",
      "[CV]  svr__C=10, svr__gamma=1, score=-0.09099892330386461, total=   1.0s\n",
      "[CV] svr__C=10, svr__gamma=1 .........................................\n",
      "[CV]  svr__C=10, svr__gamma=1, score=-0.08630169503711604, total=   0.9s\n",
      "[CV] svr__C=10, svr__gamma=1 .........................................\n",
      "[CV]  svr__C=10, svr__gamma=1, score=-0.07989983520575428, total=   1.0s\n",
      "[CV] svr__C=10, svr__gamma=0.1 .......................................\n",
      "[CV]  svr__C=10, svr__gamma=0.1, score=0.2285420505453556, total=   0.9s\n",
      "[CV] svr__C=10, svr__gamma=0.1 .......................................\n",
      "[CV]  svr__C=10, svr__gamma=0.1, score=0.24087693162932214, total=   0.9s\n",
      "[CV] svr__C=10, svr__gamma=0.1 .......................................\n",
      "[CV]  svr__C=10, svr__gamma=0.1, score=0.2654933234273231, total=   0.9s\n",
      "[CV] svr__C=10, svr__gamma=0.1 .......................................\n",
      "[CV]  svr__C=10, svr__gamma=0.1, score=0.23567591732131155, total=   0.9s\n",
      "[CV] svr__C=10, svr__gamma=0.1 .......................................\n",
      "[CV]  svr__C=10, svr__gamma=0.1, score=0.245110627785613, total=   0.9s\n",
      "[CV] svr__C=10, svr__gamma=0.01 ......................................\n",
      "[CV]  svr__C=10, svr__gamma=0.01, score=0.16514911302573754, total=   1.0s\n",
      "[CV] svr__C=10, svr__gamma=0.01 ......................................\n",
      "[CV]  svr__C=10, svr__gamma=0.01, score=0.19703650830202046, total=   1.1s\n",
      "[CV] svr__C=10, svr__gamma=0.01 ......................................\n",
      "[CV]  svr__C=10, svr__gamma=0.01, score=0.20953213667930637, total=   1.0s\n",
      "[CV] svr__C=10, svr__gamma=0.01 ......................................\n",
      "[CV]  svr__C=10, svr__gamma=0.01, score=0.171834546748204, total=   1.0s\n",
      "[CV] svr__C=10, svr__gamma=0.01 ......................................\n",
      "[CV]  svr__C=10, svr__gamma=0.01, score=0.20054594445795437, total=   1.0s\n"
     ]
    },
    {
     "name": "stderr",
     "output_type": "stream",
     "text": [
      "[Parallel(n_jobs=1)]: Done  45 out of  45 | elapsed:  1.2min finished\n"
     ]
    },
    {
     "data": {
      "text/plain": [
       "GridSearchCV(cv=5, error_score='raise',\n",
       "       estimator=Pipeline(memory=None,\n",
       "     steps=[('scaler', StandardScaler(copy=True, with_mean=True, with_std=True)), ('svr', SVR(C=1.0, cache_size=200, coef0=0.0, degree=3, epsilon=0.1, gamma='auto',\n",
       "  kernel='rbf', max_iter=-1, shrinking=True, tol=0.001, verbose=False))]),\n",
       "       fit_params=None, iid=True, n_jobs=1,\n",
       "       param_grid={'svr__C': [0.1, 1, 10], 'svr__gamma': [1, 0.1, 0.01]},\n",
       "       pre_dispatch='2*n_jobs', refit=True, return_train_score='warn',\n",
       "       scoring=None, verbose=3)"
      ]
     },
     "execution_count": 20,
     "metadata": {},
     "output_type": "execute_result"
    }
   ],
   "source": [
    "sv_cv.fit(X_train,y_train)"
   ]
  },
  {
   "cell_type": "code",
   "execution_count": 21,
   "metadata": {},
   "outputs": [],
   "source": [
    "y_pred = sv_cv.predict(X_test)"
   ]
  },
  {
   "cell_type": "code",
   "execution_count": 22,
   "metadata": {},
   "outputs": [
    {
     "name": "stdout",
     "output_type": "stream",
     "text": [
      "R^2: 0.2723144074095586\n",
      "Root Mean Squared Error: 831.5939406947047\n",
      "Best Parameters: {'svr__C': 10, 'svr__gamma': 0.1}\n",
      "Best score is 0.24313717775684524\n"
     ]
    }
   ],
   "source": [
    "# Compute and print R^2 and RMSE\n",
    "print(\"R^2: {}\".format(sv_cv.score(X_test, y_test)))\n",
    "rmse = np.sqrt(mean_squared_error(y_test,y_pred))\n",
    "print(\"Root Mean Squared Error: {}\".format(rmse))\n",
    "\n",
    "print(\"Best Parameters: {}\".format(sv_cv.best_params_)) \n",
    "print(\"Best score is {}\".format(sv_cv.best_score_))"
   ]
  },
  {
   "cell_type": "code",
   "execution_count": null,
   "metadata": {},
   "outputs": [],
   "source": []
  }
 ],
 "metadata": {
  "kernelspec": {
   "display_name": "Python 3",
   "language": "python",
   "name": "python3"
  },
  "language_info": {
   "codemirror_mode": {
    "name": "ipython",
    "version": 3
   },
   "file_extension": ".py",
   "mimetype": "text/x-python",
   "name": "python",
   "nbconvert_exporter": "python",
   "pygments_lexer": "ipython3",
   "version": "3.6.4"
  }
 },
 "nbformat": 4,
 "nbformat_minor": 2
}
